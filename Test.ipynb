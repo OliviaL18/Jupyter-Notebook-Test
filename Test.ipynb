{
 "cells": [
  {
   "cell_type": "markdown",
   "id": "0ad33725",
   "metadata": {},
   "source": [
    "## This is a test file for GitHub"
   ]
  },
  {
   "cell_type": "code",
   "execution_count": 1,
   "id": "c4efe601",
   "metadata": {},
   "outputs": [
    {
     "name": "stdout",
     "output_type": "stream",
     "text": [
      "Enter some text: \n",
      "Olivia\n"
     ]
    }
   ],
   "source": [
    "print(\"Enter some text: \")\n",
    "comment = input()"
   ]
  },
  {
   "cell_type": "markdown",
   "id": "33648bbb",
   "metadata": {},
   "source": [
    "# here is an edit"
   ]
  },
  {
   "cell_type": "code",
   "execution_count": null,
   "id": "22ad65b7",
   "metadata": {},
   "outputs": [],
   "source": []
  }
 ],
 "metadata": {
  "kernelspec": {
   "display_name": "Python 3",
   "language": "python",
   "name": "python3"
  },
  "language_info": {
   "codemirror_mode": {
    "name": "ipython",
    "version": 3
   },
   "file_extension": ".py",
   "mimetype": "text/x-python",
   "name": "python",
   "nbconvert_exporter": "python",
   "pygments_lexer": "ipython3",
   "version": "3.9.4"
  }
 },
 "nbformat": 4,
 "nbformat_minor": 5
}
